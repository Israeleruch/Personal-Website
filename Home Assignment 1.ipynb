{
 "cells": [
  {
   "cell_type": "markdown",
   "id": "f6de8cf2-ad27-4a32-afa3-0e4efddb2abf",
   "metadata": {},
   "source": [
    "# Home Assignment 1"
   ]
  },
  {
   "cell_type": "markdown",
   "id": "48f36eac-0cba-4eea-ab00-af1b0341d2a9",
   "metadata": {},
   "source": [
    "## Your Name: "
   ]
  },
  {
   "cell_type": "markdown",
   "id": "efe77118-5ab3-4773-95c4-0c7ab9ea80db",
   "metadata": {},
   "source": [
    "## Question 1\n",
    "\n",
    "Define a function that:\n",
    "* Takes three numbers (either floats or integers) as arguments.\n",
    "* Finds the lowest value.\n",
    "* Calculates the mean of the three numbers and the lowest value."
   ]
  },
  {
   "cell_type": "code",
   "execution_count": null,
   "id": "16508000-b4ec-4324-b2dc-e3f10074053d",
   "metadata": {},
   "outputs": [],
   "source": []
  },
  {
   "cell_type": "markdown",
   "id": "7f137cdd-cd6e-426d-9d67-a8c9928cd624",
   "metadata": {},
   "source": [
    "## Question 2\n",
    "\n",
    "Define a function that prints: \"Hello, my name is (name) and I'm (age) years old\", where name and age are the function's arguments."
   ]
  },
  {
   "cell_type": "code",
   "execution_count": null,
   "id": "f3421b1b-3cf0-4633-bd3c-9ffe62fef044",
   "metadata": {},
   "outputs": [],
   "source": []
  },
  {
   "cell_type": "markdown",
   "id": "aba37485-503b-459d-9caf-ac1b8b725a07",
   "metadata": {},
   "source": [
    "## Question 3\n",
    "\n",
    "* Define a function that prints: \"Hello, my name is (name) and I'm (age) years old\".\n",
    "* This time, the name and age should be the user's input.\n",
    "* Hint: use the input() built-in function."
   ]
  },
  {
   "cell_type": "code",
   "execution_count": null,
   "id": "472e6302-5b3c-439c-99ed-4def85e823e6",
   "metadata": {},
   "outputs": [],
   "source": []
  },
  {
   "cell_type": "markdown",
   "id": "ba11f1f2-bb55-4977-804d-b94878d8cb02",
   "metadata": {},
   "source": [
    "## Question 4\n",
    "\n",
    "* Define a function that:\n",
    "* Takes three arguments: the first two are floats and the third is an integer.\n",
    "* Calculates the absolute value of the difference between the two floats.\n",
    "* Rounds the resulting value, where the the third argument (the integer) specifies the number of decimals.\n",
    "* Hint: use the abs() and the round() built-in functions."
   ]
  },
  {
   "cell_type": "code",
   "execution_count": null,
   "id": "fc788394-9956-453e-a28a-8636067067ec",
   "metadata": {},
   "outputs": [],
   "source": []
  }
 ],
 "metadata": {
  "kernelspec": {
   "display_name": "Python 3 (ipykernel)",
   "language": "python",
   "name": "python3"
  },
  "language_info": {
   "codemirror_mode": {
    "name": "ipython",
    "version": 3
   },
   "file_extension": ".py",
   "mimetype": "text/x-python",
   "name": "python",
   "nbconvert_exporter": "python",
   "pygments_lexer": "ipython3",
   "version": "3.9.9"
  }
 },
 "nbformat": 4,
 "nbformat_minor": 5
}
