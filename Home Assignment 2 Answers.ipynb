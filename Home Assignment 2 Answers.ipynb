{
 "cells": [
  {
   "cell_type": "markdown",
   "id": "a505ab68-0510-48b3-9f67-f001b93c444f",
   "metadata": {},
   "source": [
    "# Home Assignment 2"
   ]
  },
  {
   "cell_type": "markdown",
   "id": "d59cbde3-ed14-423b-8342-d1110f33e0a5",
   "metadata": {},
   "source": [
    "## Question 1"
   ]
  },
  {
   "cell_type": "markdown",
   "id": "c51926cb-ac3c-4cc6-85a0-66ca956e849e",
   "metadata": {},
   "source": [
    "Define a function that:\n",
    "\n",
    "* Takes a dictionary of students' names and grades as input.\n",
    "* Prints \"The highest grade is greater than the average grade by x points\", where x is taken from the dictionary. "
   ]
  },
  {
   "cell_type": "code",
   "execution_count": 1,
   "id": "de6c23d4-c4de-4a9c-a52a-40b43125ae96",
   "metadata": {},
   "outputs": [
    {
     "data": {
      "text/plain": [
       "'The highest grade is greater than the average grade by 9.75 points.'"
      ]
     },
     "execution_count": 1,
     "metadata": {},
     "output_type": "execute_result"
    }
   ],
   "source": [
    "def max_grade(dic):\n",
    "    max_value = max(dic.values())\n",
    "    mean_value = sum(dic.values())/len(dic.values())\n",
    "    gap = max_value - mean_value\n",
    "    return \"The highest grade is greater than the average grade by {} points.\".format(gap)\n",
    "\n",
    "grades = {\"Adi\": 78, \"Becky\": 86, \"Corey\": 73, \"Dan\": 92}\n",
    "max_grade(grades)"
   ]
  },
  {
   "cell_type": "markdown",
   "id": "b0a3cbc7-e29d-4026-a509-72365d2bdd22",
   "metadata": {},
   "source": [
    "## Question 2"
   ]
  },
  {
   "cell_type": "markdown",
   "id": "48e39e28-8aee-4bd2-9ead-d2efb2e74bfb",
   "metadata": {},
   "source": [
    "Define a function that:\n",
    " * Takes a name as input.\n",
    " * Asks the user: \"What is the value of pi? Please provide at least two numbers after the decimal point.\"\n",
    " * Rounds the answer to two decimal points.\n",
    " * If the rounded answer equals 3.14, prints: \"Well done, (name)!\", where the name is the function's argument.\n",
    " * Otherwise, prints: \"You still got a lot to learn, (name).\""
   ]
  },
  {
   "cell_type": "code",
   "execution_count": 3,
   "id": "eb6cb736-0749-4fcb-a01c-bf92d766bc8c",
   "metadata": {},
   "outputs": [
    {
     "name": "stdin",
     "output_type": "stream",
     "text": [
      "What is the value of pi? Please provide at least two numbers after the decimal point. 3\n"
     ]
    },
    {
     "name": "stdout",
     "output_type": "stream",
     "text": [
      "You still got a lot to learn, Israel.\n"
     ]
    }
   ],
   "source": [
    "def try_me(name):\n",
    "    answer = input(\"What is the value of pi? Please provide at least two numbers after the decimal point.\")\n",
    "    if round(float(answer), 2) == 3.14:\n",
    "        print(f\"Well done, {name}!\")\n",
    "    else:\n",
    "        print(f\"You still got a lot to learn, {name}.\")\n",
    "        \n",
    "try_me(\"Israel\")"
   ]
  },
  {
   "cell_type": "markdown",
   "id": "73785172-464e-4390-9fcd-a9679374d303",
   "metadata": {},
   "source": [
    "## Question 3"
   ]
  },
  {
   "cell_type": "markdown",
   "id": "7dd2cb9a-83ac-4fad-a339-ee889f85b909",
   "metadata": {},
   "source": [
    "Define a function that:\n",
    "\n",
    " * Takes two lists of positive numbers (either floats or integers) of the same size, which represent two dynamic allocations of per-capita consumption in the Solow or Ramsey models.\n",
    " * Uses the all() and any() built-in functions to determine whether the second allocation is dynamically inefficient, according to the Solow or Ramsey models. **Note: make sure to review the concept of dynamic efficiency we learned before.**\n",
    " * If the second allocation is inefficient, the function should print \"Allocation 2 is dynamically inefficient\". \n",
    " * Otherwise, the function should print \"Allocation 2 may be dynamically efficient\".\n",
    " * Note that the function assumes that the two lists have the same size, and that it will raise an error if they don't."
   ]
  },
  {
   "cell_type": "code",
   "execution_count": 4,
   "id": "a2cf30b7-073c-4676-8ed2-4c921ce8bd5f",
   "metadata": {},
   "outputs": [
    {
     "name": "stdout",
     "output_type": "stream",
     "text": [
      "Allocation 2 may be dynamically efficient.\n"
     ]
    }
   ],
   "source": [
    "def check_dynamic_efficiency(consumption_1, consumption_2):\n",
    "    if all(i >= j for i, j in zip(consumption_1, consumption_2)) and any(i > j for i, j in zip(consumption_1, consumption_2)):\n",
    "        print(\"Allocation 2 is dynamically inefficient.\")\n",
    "    else:\n",
    "        print(\"Allocation 2 may be dynamically efficient.\")\n",
    "        \n",
    "alloc_1 = [4.3, 5.5, 7.2, 8.0]\n",
    "alloc_2 = [4.3, 5.5, 7, 8.2]\n",
    "check_dynamic_efficiency(alloc_1, alloc_2)"
   ]
  },
  {
   "cell_type": "markdown",
   "id": "6906eb6f-ac23-4a35-ac1a-c69291420b36",
   "metadata": {},
   "source": [
    "## Question 4"
   ]
  },
  {
   "cell_type": "markdown",
   "id": "ce2fc13f-fc5e-4c2e-8c21-7d1a09489bc3",
   "metadata": {},
   "source": [
    "Define a function that:\n",
    "\n",
    " * Takes a list of numbers, lst, and a number, x,  as input. All numbers can be either floats or integers.\n",
    " * Calculates the list's mean, maximum, and minimum values.\n",
    " * If the list's mean is smaller than or equal to x, the function removes the minimum value from the list and returns the new list's mean.\n",
    " * Otherwise, it removes the maximum value from the list and returns the mean of the new list."
   ]
  },
  {
   "cell_type": "code",
   "execution_count": 5,
   "id": "35a29a90-02ac-4051-ad5e-e3cab0d9c72b",
   "metadata": {},
   "outputs": [
    {
     "data": {
      "text/plain": [
       "4.0"
      ]
     },
     "execution_count": 5,
     "metadata": {},
     "output_type": "execute_result"
    }
   ],
   "source": [
    "def compare(lst, x):\n",
    "    mean = sum(lst)/len(lst)\n",
    "    max_value = max(lst)\n",
    "    min_value = min(lst)\n",
    "    if mean <= x:\n",
    "        lst.remove(min_value)\n",
    "        mean = sum(lst)/len(lst)\n",
    "        return mean\n",
    "    else:\n",
    "        lst.remove(max_value)\n",
    "        mean = sum(lst)/len(lst)\n",
    "        return mean\n",
    "    \n",
    "compare([6, 7, 2, 4, 1, 0], 5)"
   ]
  }
 ],
 "metadata": {
  "kernelspec": {
   "display_name": "Python 3 (ipykernel)",
   "language": "python",
   "name": "python3"
  },
  "language_info": {
   "codemirror_mode": {
    "name": "ipython",
    "version": 3
   },
   "file_extension": ".py",
   "mimetype": "text/x-python",
   "name": "python",
   "nbconvert_exporter": "python",
   "pygments_lexer": "ipython3",
   "version": "3.9.9"
  }
 },
 "nbformat": 4,
 "nbformat_minor": 5
}
