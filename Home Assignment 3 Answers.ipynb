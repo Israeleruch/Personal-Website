{
 "cells": [
  {
   "cell_type": "markdown",
   "id": "7b276822-7f3f-444f-950a-78d179577528",
   "metadata": {},
   "source": [
    "# Home Assignment 3"
   ]
  },
  {
   "cell_type": "markdown",
   "id": "a21a862b-f7e7-460b-8b2b-2fb87a2fef95",
   "metadata": {},
   "source": [
    "## Your Name:"
   ]
  },
  {
   "cell_type": "markdown",
   "id": "7420d903-19bd-4037-8c67-3f0e45f43163",
   "metadata": {},
   "source": [
    "## Question 1"
   ]
  },
  {
   "cell_type": "markdown",
   "id": "04e1160b-a0d9-437e-b9d0-e3c0a359a510",
   "metadata": {},
   "source": [
    "Define a function that:\n",
    "\n",
    "* Takes a list as input.\n",
    "* Calculates the list's mean.\n",
    "* For each of the list's elements, prints 1 if it's greater than or equal to the mean and 0 otherwise.\n",
    "* **Note: In defining the function, use a \"for\" loop and an \"if\" statement. Do not use any external library!**"
   ]
  },
  {
   "cell_type": "code",
   "execution_count": 3,
   "id": "3493d1b7-0c68-4081-934e-af85cd3429ea",
   "metadata": {},
   "outputs": [
    {
     "data": {
      "text/plain": [
       "[1, 1, 0, 1, 1, 1, 0]"
      ]
     },
     "execution_count": 3,
     "metadata": {},
     "output_type": "execute_result"
    }
   ],
   "source": [
    "def basic_function(lst):\n",
    "    mean = sum(lst)/len(lst)\n",
    "    lst = [1 if i >= mean else 0 for i in lst]\n",
    "    return lst\n",
    "        \n",
    "my_list = [4, 5, 2, 8, 5, 3, -6]\n",
    "basic_function(my_list)"
   ]
  },
  {
   "cell_type": "markdown",
   "id": "0b53837d-b9a1-4266-aabe-0310931249a0",
   "metadata": {},
   "source": [
    "## Question 2"
   ]
  },
  {
   "cell_type": "markdown",
   "id": "5cc6c9e5-f1c0-4eff-a42b-609e51d6ab45",
   "metadata": {},
   "source": [
    "* Answer again the previous question, but this time using NumPy. \n",
    "* **Do not use a \"for\" loop or an \"if\" statement!**"
   ]
  },
  {
   "cell_type": "code",
   "execution_count": 4,
   "id": "5beb9204-d688-4485-a07c-3a10fa1acca6",
   "metadata": {},
   "outputs": [
    {
     "data": {
      "text/plain": [
       "array([1, 1, 0, 1, 1, 1, 0])"
      ]
     },
     "execution_count": 4,
     "metadata": {},
     "output_type": "execute_result"
    }
   ],
   "source": [
    "import numpy as np\n",
    "\n",
    "def np_function(lst):\n",
    "    array = np.array(lst)\n",
    "    return np.where(array >= array.mean(), 1, 0)\n",
    "\n",
    "np_function(my_list)"
   ]
  },
  {
   "cell_type": "markdown",
   "id": "19cd394d-fce9-4957-8843-f757e46241c4",
   "metadata": {},
   "source": [
    "## Question 3"
   ]
  },
  {
   "cell_type": "markdown",
   "id": "cacb3ac8-d301-4ab7-bf91-20d222247798",
   "metadata": {},
   "source": [
    "Define a function that:\n",
    "* Takes a positive integer n and a postivie number p (integer or float) as input.\n",
    "* Generates a Fibonacci sequence with n elements.\n",
    "* Returns the index of the first element in this sequence greater than p.\n",
    "* **Note: Make sure to use NumPy.**"
   ]
  },
  {
   "cell_type": "code",
   "execution_count": 8,
   "id": "63c5a2b7-2250-42f8-869d-f8228cd8dec4",
   "metadata": {},
   "outputs": [
    {
     "data": {
      "text/plain": [
       "('No value in our Fibonacci sequence is greater than p', 9)"
      ]
     },
     "execution_count": 8,
     "metadata": {},
     "output_type": "execute_result"
    }
   ],
   "source": [
    "def search_fibonacci(n, p):\n",
    "    x = np.zeros(n)\n",
    "    x[1] = 1\n",
    "    for i in range(2, n):\n",
    "        x[i] = x[i-1] + x[i-2]\n",
    "    if x.max() > p: \n",
    "        return x.searchsorted(p)\n",
    "    else:\n",
    "        return \"No value in our Fibonacci sequence is greater than p\"\n",
    "\n",
    "search_fibonacci(2, 22), search_fibonacci(10, 22)"
   ]
  },
  {
   "cell_type": "markdown",
   "id": "59063d7f-4e5a-4f71-95e3-216c86812087",
   "metadata": {},
   "source": [
    "## Question 4"
   ]
  },
  {
   "cell_type": "markdown",
   "id": "4d457e84-923a-4f03-9a9e-df22a5be8026",
   "metadata": {},
   "source": [
    "Define a function that:\n",
    "\n",
    "* Takes three numbers, a, b, and n, as input: a and b are real numbers with a < b, and n is a positive integer.\n",
    "* Generates an array of n uniformly-distributed elements, where a and b are the distribution's lower and upper bounds, respectively.\n",
    "* Calculates the array's mean and standard deviation.\n",
    "* Returns the mean divided by the standard deviation."
   ]
  },
  {
   "cell_type": "code",
   "execution_count": 9,
   "id": "00eeec2a-3612-486a-9541-4ab68a378f09",
   "metadata": {},
   "outputs": [
    {
     "data": {
      "text/plain": [
       "0.10336650273876948"
      ]
     },
     "execution_count": 9,
     "metadata": {},
     "output_type": "execute_result"
    }
   ],
   "source": [
    "def uniform(a, b, n):\n",
    "    u_array = np.random.uniform(low = a, high = b, size = n)\n",
    "    mean = u_array.mean()\n",
    "    std = np.std(u_array)\n",
    "    return mean/std\n",
    "\n",
    "uniform(-1, 1, 100)"
   ]
  },
  {
   "cell_type": "markdown",
   "id": "47835c9c-579a-43d9-8f81-e19c6a52ca9f",
   "metadata": {},
   "source": [
    "## Question 5: Bonus (ungraded) question; just try your best!"
   ]
  },
  {
   "cell_type": "markdown",
   "id": "952f7f39-4418-4d5b-8f47-afe8c01d2d9a",
   "metadata": {},
   "source": [
    " Define a function that:\n",
    " \n",
    " * Takes a list of integers as input.\n",
    " * Calculates a new list whose elements are the absolute differences between adjacent elements in the original list.\n",
    "   **Note that if the original list has n elements, the new list must have n-1 elements.**\n",
    " * Repeats the process until the list has only one element.\n",
    " * Prints the resulting list.\n",
    " * **Note: you can solve the question without using NumPy.**"
   ]
  },
  {
   "cell_type": "code",
   "execution_count": 1,
   "id": "3f53c4e3-962c-4656-8306-10848cbeb2c2",
   "metadata": {},
   "outputs": [
    {
     "data": {
      "text/plain": [
       "[2]"
      ]
     },
     "execution_count": 1,
     "metadata": {},
     "output_type": "execute_result"
    }
   ],
   "source": [
    "def diff_in_diff(lst):\n",
    "    if len(lst) == 1:\n",
    "        return lst\n",
    "    else:\n",
    "        new_lst = []\n",
    "        for i in range(len(lst) - 1):\n",
    "            new_lst.append(abs(lst[i] - lst[i+1]))\n",
    "        return diff_in_diff(new_lst)\n",
    "    \n",
    "diff_in_diff([4, 2, 7, 1, 9, 6, 4, 5, 12, -4])"
   ]
  }
 ],
 "metadata": {
  "kernelspec": {
   "display_name": "Python 3 (ipykernel)",
   "language": "python",
   "name": "python3"
  },
  "language_info": {
   "codemirror_mode": {
    "name": "ipython",
    "version": 3
   },
   "file_extension": ".py",
   "mimetype": "text/x-python",
   "name": "python",
   "nbconvert_exporter": "python",
   "pygments_lexer": "ipython3",
   "version": "3.9.9"
  }
 },
 "nbformat": 4,
 "nbformat_minor": 5
}
