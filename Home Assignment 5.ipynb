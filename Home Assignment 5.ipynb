{
 "cells": [
  {
   "cell_type": "markdown",
   "id": "76311d87-d0b7-4472-8472-9655f9fb4403",
   "metadata": {},
   "source": [
    "# Home Assignment 5"
   ]
  },
  {
   "cell_type": "markdown",
   "id": "596b24a5-2a56-4dd7-88c0-9d4696464635",
   "metadata": {},
   "source": [
    "## Your Name:"
   ]
  },
  {
   "cell_type": "markdown",
   "id": "f80f1dd9-10ac-404e-a793-70801c8cb351",
   "metadata": {},
   "source": [
    "## Introduction"
   ]
  },
  {
   "cell_type": "markdown",
   "id": "85258caf-4bc8-4673-84c3-8bc06cdbc17d",
   "metadata": {},
   "source": [
    "The attached file, provided by the World Health Organization (WHO), contains public health data for most countries from 2000-2015.\n",
    "Throughout the analysis, we shall focus on the following variables:\n",
    "\n",
    "* Status: Developed or Developing status.\n",
    "* Life expectancy: life expectancy at birth.\n",
    "* Alcohol: alcohol, recorded per capita (15+) consumption (in liters of pure alcohol).\n",
    "* Polio: Polio (Pol3) immunization coverage among 1-year-olds (%).\n",
    "* GDP: Gross Domestic Product per capita (in USD)."
   ]
  },
  {
   "cell_type": "markdown",
   "id": "b14e6d74-4c4c-458f-894b-611db6fd2948",
   "metadata": {},
   "source": [
    "### Load and Modify the Data\n",
    "* Load the data to a Pandas data frame.\n",
    "* Modify the data frame so that it includes only the 2014 data.\n",
    "* Set the \"Country\" column as the data frame's index.\n",
    "* Modify the data frame so that it includes only the following columns: \"Status\", \"Life expectancy\", \"Alcohol\", \"Polio\", and \"GDP\".\n",
    "* If necessary, modify the columns' names to reflect the data better. For example, you might want to change the column \"GDP\" to \"GDP_PC\".\n",
    "* Drop all the rows (countries) that contain at least one NaN (missing) value.\n",
    "* Create a new column named \"Developed\" that gets a value of 1 if the country's status and \"Developed\" and 0 otherwise.\n",
    "* Print the resulting data frame."
   ]
  },
  {
   "cell_type": "code",
   "execution_count": null,
   "id": "03b49bd8-04f2-47c1-97ec-f35de0cec09e",
   "metadata": {},
   "outputs": [],
   "source": []
  },
  {
   "cell_type": "markdown",
   "id": "f78f1390-014f-411d-9bad-0e79dedb0aa7",
   "metadata": {},
   "source": [
    "### Run a Linear Regression\n",
    "\n",
    "Estimate the following model using OLS:\n",
    "\n",
    "\\begin{equation*}\n",
    "lexp_i = \\beta_0 + \\beta_1 * D_i + \\beta_2 * alc_i + \\beta_3 * D_i * alc_i + \\beta_4 * log(gdppc_i) + \\beta_5 * log(polio_i)\n",
    "\\end{equation*}\n",
    "\n",
    "Where:\n",
    "* $lexp_i$ is the life expectancy in country $i$,\n",
    "* $D_i$ is an indicator function (dummy variable) that equals one if the country is developed and zero otherwise,\n",
    "* $alc_i$ is the alcohol consumption in country $i$,\n",
    "* $gdppc_i$ is the GDP per capita in country $i$,\n",
    "* and polio_i is the Polion immunization coverage in country $i$.\n",
    "\n",
    "In estimating the model, use heteroskedasticity-robust standard errors.\n",
    "\n",
    "Present the estimation's results, including the coefficients, the p values, and basic indices such as R squared."
   ]
  },
  {
   "cell_type": "code",
   "execution_count": null,
   "id": "21d0a724-7fbc-47ad-aeb2-02dbf3a28773",
   "metadata": {},
   "outputs": [],
   "source": []
  },
  {
   "cell_type": "markdown",
   "id": "3c3e3dfd-225d-4de7-9b64-743caba4b375",
   "metadata": {},
   "source": [
    "### Visualize the Data\n",
    "\n",
    "* Plot a scatter where the x-axis is the country's log of GDP per capita, and the y-axis is the life expectancy. \n",
    "* Plot a regression line in the same figure. **Hint: You should use the regplot() function from the seaborn library.**\n",
    "* Make sure that the scatter and the line have different colors. \n",
    "* Customize the figure and present it."
   ]
  },
  {
   "cell_type": "code",
   "execution_count": null,
   "id": "4adfe1d1-78b6-4cd3-b1f0-3cc2365a2d42",
   "metadata": {},
   "outputs": [],
   "source": []
  }
 ],
 "metadata": {
  "kernelspec": {
   "display_name": "Python 3",
   "language": "python",
   "name": "python3"
  },
  "language_info": {
   "codemirror_mode": {
    "name": "ipython",
    "version": 3
   },
   "file_extension": ".py",
   "mimetype": "text/x-python",
   "name": "python",
   "nbconvert_exporter": "python",
   "pygments_lexer": "ipython3",
   "version": "3.8.8"
  }
 },
 "nbformat": 4,
 "nbformat_minor": 5
}
