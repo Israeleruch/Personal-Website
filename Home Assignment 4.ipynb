{
 "cells": [
  {
   "cell_type": "markdown",
   "id": "15477aaf-9f7a-48cf-a8a6-e7765f33fc3b",
   "metadata": {},
   "source": [
    "# Home Assignment 4"
   ]
  },
  {
   "cell_type": "markdown",
   "id": "6595c9f7-9e86-48cd-8679-9bc992b4e00a",
   "metadata": {},
   "source": [
    "## Your Name:"
   ]
  },
  {
   "cell_type": "markdown",
   "id": "6c99940f-c9a6-4862-8887-cea021949c99",
   "metadata": {},
   "source": [
    "## Question 1"
   ]
  },
  {
   "cell_type": "markdown",
   "id": "dc19ffab-7960-4b3a-89e2-598f14e4e573",
   "metadata": {},
   "source": [
    "Answer Question 4.3.a from the Solow Assignment."
   ]
  },
  {
   "cell_type": "code",
   "execution_count": null,
   "id": "8a1d40f6-ff9b-45c8-836f-e5d27b0e47d4",
   "metadata": {},
   "outputs": [],
   "source": []
  },
  {
   "cell_type": "markdown",
   "id": "a84b3df3-af56-4a05-83c7-01ce5d8b351b",
   "metadata": {},
   "source": [
    "Answer Question 4.3.b from the Solow Assignment."
   ]
  },
  {
   "cell_type": "code",
   "execution_count": null,
   "id": "605d7a99-ebf2-4251-88d4-4a3f606ab246",
   "metadata": {},
   "outputs": [],
   "source": []
  },
  {
   "cell_type": "markdown",
   "id": "7918fc7f-4c89-4c51-b2bc-d4cc04daac15",
   "metadata": {},
   "source": [
    "Answer Question 4.3.c from the Solow Assignment."
   ]
  },
  {
   "cell_type": "code",
   "execution_count": null,
   "id": "5cea5052-4ec6-47fb-8ccd-72bf27c83b16",
   "metadata": {},
   "outputs": [],
   "source": []
  },
  {
   "cell_type": "markdown",
   "id": "54d402f1-2b84-4ecb-a7d1-cf314a7aca60",
   "metadata": {},
   "source": [
    "## Question 2"
   ]
  },
  {
   "cell_type": "markdown",
   "id": "74897989-ae34-457f-b818-181a60acad7a",
   "metadata": {},
   "source": [
    "The dynamic system is charactarized by the following dynamic equations:\n",
    "\n",
    "\n",
    "\\begin{equation*}\n",
    "\\begin{cases}\n",
    "\\dot{x} = 2x^2 - 3x + y\\\\\n",
    "\\dot{y} = -y^2 +5y -10x + 1\n",
    "\\end{cases}\n",
    "\\end{equation*}\n",
    "\n",
    "Find the system's steady states."
   ]
  },
  {
   "cell_type": "code",
   "execution_count": null,
   "id": "6299507f-bc78-435d-b6b0-952ece298d42",
   "metadata": {},
   "outputs": [],
   "source": []
  },
  {
   "cell_type": "markdown",
   "id": "44f9aa54-b944-42cf-bcd9-456949bdb300",
   "metadata": {},
   "source": [
    "Show that the values you obtained are indeed the system's steady states."
   ]
  },
  {
   "cell_type": "code",
   "execution_count": null,
   "id": "12830375-11a8-48e7-ac83-d65d1f4e2f2b",
   "metadata": {},
   "outputs": [],
   "source": []
  }
 ],
 "metadata": {
  "kernelspec": {
   "display_name": "Python 3 (ipykernel)",
   "language": "python",
   "name": "python3"
  },
  "language_info": {
   "codemirror_mode": {
    "name": "ipython",
    "version": 3
   },
   "file_extension": ".py",
   "mimetype": "text/x-python",
   "name": "python",
   "nbconvert_exporter": "python",
   "pygments_lexer": "ipython3",
   "version": "3.9.9"
  }
 },
 "nbformat": 4,
 "nbformat_minor": 5
}
