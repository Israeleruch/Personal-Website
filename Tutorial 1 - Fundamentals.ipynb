{
 "cells": [
  {
   "cell_type": "markdown",
   "id": "7927b83c-8512-484d-807b-4620ad85bead",
   "metadata": {},
   "source": [
    "# Python Tutorial 1: Fundamentals"
   ]
  },
  {
   "cell_type": "markdown",
   "id": "79a443e2-0dc1-4bed-b0a1-d22ed2806988",
   "metadata": {},
   "source": [
    "## Greeting"
   ]
  },
  {
   "cell_type": "code",
   "execution_count": 1,
   "id": "a8bd9cb2-3d40-4c88-ab72-1dcb2eacf81e",
   "metadata": {},
   "outputs": [
    {
     "name": "stdout",
     "output_type": "stream",
     "text": [
      "Hello Mars!\n"
     ]
    }
   ],
   "source": [
    "print(\"Hello Mars!\")"
   ]
  },
  {
   "cell_type": "markdown",
   "id": "e7a0e928-b93f-405c-8496-73d08bf5e7af",
   "metadata": {},
   "source": [
    "## Storing Data in Variables"
   ]
  },
  {
   "cell_type": "code",
   "execution_count": 2,
   "id": "bb8bdfd1-fc2d-489c-8552-0ac45c0b53a2",
   "metadata": {},
   "outputs": [
    {
     "data": {
      "text/plain": [
       "5"
      ]
     },
     "execution_count": 2,
     "metadata": {},
     "output_type": "execute_result"
    }
   ],
   "source": [
    "#The data is stored in the memory and accessed by calling the variable\n",
    "\n",
    "x = 5\n",
    "x"
   ]
  },
  {
   "cell_type": "code",
   "execution_count": 3,
   "id": "adfa789c-4040-4ff9-9dae-b1089585e651",
   "metadata": {},
   "outputs": [
    {
     "data": {
      "text/plain": [
       "4"
      ]
     },
     "execution_count": 3,
     "metadata": {},
     "output_type": "execute_result"
    }
   ],
   "source": [
    "#What happens when you assign new data to an existing variable?\n",
    "\n",
    "x = 5\n",
    "x = 4\n",
    "\n",
    "x"
   ]
  },
  {
   "cell_type": "code",
   "execution_count": 4,
   "id": "abe77ef0-ce91-4117-8602-1bfa5bdaa446",
   "metadata": {},
   "outputs": [
    {
     "data": {
      "text/plain": [
       "8"
      ]
     },
     "execution_count": 4,
     "metadata": {},
     "output_type": "execute_result"
    }
   ],
   "source": [
    "#You can perform operations using the existing variables\n",
    "\n",
    "x + x"
   ]
  },
  {
   "cell_type": "code",
   "execution_count": 5,
   "id": "5580fcd2-69a0-41af-8410-5bc08b74f98e",
   "metadata": {},
   "outputs": [
    {
     "data": {
      "text/plain": [
       "1"
      ]
     },
     "execution_count": 5,
     "metadata": {},
     "output_type": "execute_result"
    }
   ],
   "source": [
    "y = 3\n",
    "\n",
    "abs(y - x)"
   ]
  },
  {
   "cell_type": "code",
   "execution_count": 6,
   "id": "7a517b57-7d62-45c1-896a-caf1c75cd409",
   "metadata": {},
   "outputs": [
    {
     "data": {
      "text/plain": [
       "4"
      ]
     },
     "execution_count": 6,
     "metadata": {},
     "output_type": "execute_result"
    }
   ],
   "source": [
    "max(y, x)"
   ]
  },
  {
   "cell_type": "code",
   "execution_count": 2,
   "id": "d94dfa0a-21be-4882-ba61-2f6a988bb99f",
   "metadata": {},
   "outputs": [
    {
     "ename": "SyntaxError",
     "evalue": "invalid syntax (1308524231.py, line 3)",
     "output_type": "error",
     "traceback": [
      "\u001b[1;36m  Input \u001b[1;32mIn [2]\u001b[1;36m\u001b[0m\n\u001b[1;33m    9Xdk = 5\u001b[0m\n\u001b[1;37m     ^\u001b[0m\n\u001b[1;31mSyntaxError\u001b[0m\u001b[1;31m:\u001b[0m invalid syntax\n"
     ]
    }
   ],
   "source": [
    "#A variable’s name can begin only with a letter or _ but it can also contain numbers\n",
    "\n",
    "9Xdk = 5"
   ]
  },
  {
   "cell_type": "code",
   "execution_count": 8,
   "id": "9fca69d5-e475-451d-9718-788da315cabb",
   "metadata": {},
   "outputs": [
    {
     "data": {
      "text/plain": [
       "5"
      ]
     },
     "execution_count": 8,
     "metadata": {},
     "output_type": "execute_result"
    }
   ],
   "source": [
    "_AA98 = 5\n",
    "\n",
    "_AA98"
   ]
  },
  {
   "cell_type": "code",
   "execution_count": 9,
   "id": "7a50a4c5-d2ac-452d-a798-c89aad271334",
   "metadata": {},
   "outputs": [
    {
     "ename": "NameError",
     "evalue": "name 'A' is not defined",
     "output_type": "error",
     "traceback": [
      "\u001b[1;31m---------------------------------------------------------------------------\u001b[0m",
      "\u001b[1;31mNameError\u001b[0m                                 Traceback (most recent call last)",
      "Input \u001b[1;32mIn [9]\u001b[0m, in \u001b[0;36m<module>\u001b[1;34m\u001b[0m\n\u001b[0;32m      1\u001b[0m \u001b[38;5;66;03m#Variable names are case-sensitive\u001b[39;00m\n\u001b[0;32m      3\u001b[0m a \u001b[38;5;241m=\u001b[39m \u001b[38;5;241m4\u001b[39m\n\u001b[1;32m----> 5\u001b[0m \u001b[43mA\u001b[49m\n",
      "\u001b[1;31mNameError\u001b[0m: name 'A' is not defined"
     ]
    }
   ],
   "source": [
    "#Variable names are case-sensitive\n",
    "\n",
    "a = 4\n",
    "\n",
    "A"
   ]
  },
  {
   "cell_type": "code",
   "execution_count": 10,
   "id": "dae5c9c7-b382-4401-b3c3-056db3cc3ad1",
   "metadata": {},
   "outputs": [
    {
     "data": {
      "text/plain": [
       "False"
      ]
     },
     "execution_count": 10,
     "metadata": {},
     "output_type": "execute_result"
    }
   ],
   "source": [
    "#Booleans\n",
    "\n",
    "x = 1 > 2\n",
    "\n",
    "x"
   ]
  },
  {
   "cell_type": "code",
   "execution_count": 11,
   "id": "8f5e9686-5bc8-4218-aaa4-4678cc8fae7a",
   "metadata": {},
   "outputs": [
    {
     "data": {
      "text/plain": [
       "True"
      ]
     },
     "execution_count": 11,
     "metadata": {},
     "output_type": "execute_result"
    }
   ],
   "source": [
    "y = True\n",
    "\n",
    "y"
   ]
  },
  {
   "cell_type": "code",
   "execution_count": 12,
   "id": "2665f490-dc89-42bc-a39d-d283e1c0ad47",
   "metadata": {},
   "outputs": [
    {
     "data": {
      "text/plain": [
       "1"
      ]
     },
     "execution_count": 12,
     "metadata": {},
     "output_type": "execute_result"
    }
   ],
   "source": [
    "#In math, True is converted to 1, and False is converted to 0\n",
    "\n",
    "x + y"
   ]
  },
  {
   "cell_type": "code",
   "execution_count": 13,
   "id": "500f46fa-08eb-412a-b093-3729f8f07bbc",
   "metadata": {},
   "outputs": [
    {
     "data": {
      "text/plain": [
       "(bool, bool)"
      ]
     },
     "execution_count": 13,
     "metadata": {},
     "output_type": "execute_result"
    }
   ],
   "source": [
    "type(x), type(y)"
   ]
  },
  {
   "cell_type": "code",
   "execution_count": 14,
   "id": "14fd8b5e-8f2d-40fc-b589-3f1fe837a789",
   "metadata": {},
   "outputs": [
    {
     "data": {
      "text/plain": [
       "int"
      ]
     },
     "execution_count": 14,
     "metadata": {},
     "output_type": "execute_result"
    }
   ],
   "source": [
    "#Integers\n",
    "\n",
    "x = 4\n",
    "\n",
    "type(x)"
   ]
  },
  {
   "cell_type": "code",
   "execution_count": 15,
   "id": "1bd3d2d3-b544-4e5b-9110-16501449b46b",
   "metadata": {},
   "outputs": [
    {
     "data": {
      "text/plain": [
       "float"
      ]
     },
     "execution_count": 15,
     "metadata": {},
     "output_type": "execute_result"
    }
   ],
   "source": [
    "#Floats\n",
    "\n",
    "x = 3.2\n",
    "type(x)"
   ]
  },
  {
   "cell_type": "code",
   "execution_count": 17,
   "id": "11a58d2d-a5a3-4db6-be05-70dafd627498",
   "metadata": {},
   "outputs": [
    {
     "data": {
      "text/plain": [
       "float"
      ]
     },
     "execution_count": 17,
     "metadata": {},
     "output_type": "execute_result"
    }
   ],
   "source": [
    "#Integers are naturally converted to floats\n",
    "\n",
    "y = 3\n",
    "type(x / y)"
   ]
  },
  {
   "cell_type": "code",
   "execution_count": 18,
   "id": "193868b8-4881-4f83-b742-6eac79461916",
   "metadata": {},
   "outputs": [
    {
     "data": {
      "text/plain": [
       "str"
      ]
     },
     "execution_count": 18,
     "metadata": {},
     "output_type": "execute_result"
    }
   ],
   "source": [
    "#Strings\n",
    "\n",
    "x = \"Hello Micro!\"\n",
    "type(x)"
   ]
  },
  {
   "cell_type": "code",
   "execution_count": 19,
   "id": "122e0b25-75d9-4090-a65a-cf99c425ddcf",
   "metadata": {},
   "outputs": [
    {
     "data": {
      "text/plain": [
       "'Hello Micro! Meet you at 16:00.'"
      ]
     },
     "execution_count": 19,
     "metadata": {},
     "output_type": "execute_result"
    }
   ],
   "source": [
    "#You can concatenate strings using +\n",
    "\n",
    "y = \" Meet you at 16:00.\"\n",
    "\n",
    "x + y"
   ]
  },
  {
   "cell_type": "code",
   "execution_count": 20,
   "id": "fe83fd58-b921-4a40-aac8-c10c92dec570",
   "metadata": {},
   "outputs": [
    {
     "ename": "TypeError",
     "evalue": "unsupported operand type(s) for +: 'int' and 'str'",
     "output_type": "error",
     "traceback": [
      "\u001b[1;31m---------------------------------------------------------------------------\u001b[0m",
      "\u001b[1;31mTypeError\u001b[0m                                 Traceback (most recent call last)",
      "Input \u001b[1;32mIn [20]\u001b[0m, in \u001b[0;36m<module>\u001b[1;34m\u001b[0m\n\u001b[0;32m      3\u001b[0m x \u001b[38;5;241m=\u001b[39m \u001b[38;5;241m4\u001b[39m\n\u001b[0;32m      4\u001b[0m y \u001b[38;5;241m=\u001b[39m \u001b[38;5;124m\"\u001b[39m\u001b[38;5;124m5\u001b[39m\u001b[38;5;124m\"\u001b[39m\n\u001b[1;32m----> 6\u001b[0m \u001b[43mx\u001b[49m\u001b[43m \u001b[49m\u001b[38;5;241;43m+\u001b[39;49m\u001b[43m \u001b[49m\u001b[43my\u001b[49m\n",
      "\u001b[1;31mTypeError\u001b[0m: unsupported operand type(s) for +: 'int' and 'str'"
     ]
    }
   ],
   "source": [
    "#Can we add a string to an integer?\n",
    "\n",
    "x = 4\n",
    "y = \"5\"\n",
    "\n",
    "x + y"
   ]
  },
  {
   "cell_type": "markdown",
   "id": "71af9413-7ea9-47e7-b6dc-64ee91f051f1",
   "metadata": {},
   "source": [
    "## Practice Set 1"
   ]
  },
  {
   "cell_type": "code",
   "execution_count": 1,
   "id": "0f096a7e-5d47-445c-807d-1fd16f3e5488",
   "metadata": {},
   "outputs": [
    {
     "name": "stdout",
     "output_type": "stream",
     "text": [
      "My age is 94\n"
     ]
    }
   ],
   "source": [
    "#Create a variable x that contains your age and print ``My age is x\"\n",
    "\n",
    "x = 94\n",
    "\n",
    "print(\"My age is\", x)"
   ]
  },
  {
   "cell_type": "code",
   "execution_count": 2,
   "id": "507d812a-46ae-4c81-a8b8-4b651e80c093",
   "metadata": {},
   "outputs": [
    {
     "data": {
      "text/plain": [
       "False"
      ]
     },
     "execution_count": 2,
     "metadata": {},
     "output_type": "execute_result"
    }
   ],
   "source": [
    "#What would the following code return?\n",
    "\n",
    "x = 1 > 2\n",
    "y = True\n",
    "z = x > y\n",
    "\n",
    "z"
   ]
  },
  {
   "cell_type": "code",
   "execution_count": 3,
   "id": "d0dc31cc-08c3-4219-9ca7-3a08aaf513ed",
   "metadata": {},
   "outputs": [
    {
     "data": {
      "text/plain": [
       "'I am hungry! I am hungry! I am hungry! I am hungry! I am hungry! I am hungry! I am hungry! I am hungry! I am hungry! I am hungry! '"
      ]
     },
     "execution_count": 3,
     "metadata": {},
     "output_type": "execute_result"
    }
   ],
   "source": [
    "#Write a code that prints ``I am hungry\" 10 times\n",
    "\n",
    "statement = \"I am hungry! \"\n",
    "statement*10"
   ]
  },
  {
   "cell_type": "code",
   "execution_count": 4,
   "id": "ac7df1bc-35ff-41e4-a351-64fb2c23779a",
   "metadata": {},
   "outputs": [
    {
     "data": {
      "text/plain": [
       "-11.0"
      ]
     },
     "execution_count": 4,
     "metadata": {},
     "output_type": "execute_result"
    }
   ],
   "source": [
    "#Assign different float values to five variables and find their minimum\n",
    "\n",
    "a, b, c, d, e = 3.2, 4.5, 9.2, -11.0, 6.8457834\n",
    "min(a, b, c, d, e)"
   ]
  },
  {
   "cell_type": "markdown",
   "id": "b5234c78-595f-48f8-aedc-36f75b29c6d7",
   "metadata": {},
   "source": [
    "## Built-In Functions"
   ]
  },
  {
   "cell_type": "code",
   "execution_count": 26,
   "id": "c9d6d453-a595-48a0-a6fc-d95e38b71c45",
   "metadata": {},
   "outputs": [
    {
     "data": {
      "text/plain": [
       "(str, int)"
      ]
     },
     "execution_count": 26,
     "metadata": {},
     "output_type": "execute_result"
    }
   ],
   "source": [
    "#int()\n",
    "\n",
    "a = \"5\"\n",
    "b = int(a)\n",
    "\n",
    "type(a), type(b)"
   ]
  },
  {
   "cell_type": "code",
   "execution_count": 27,
   "id": "7808a85c-bcd8-41bb-9784-66eb5e2b8ca1",
   "metadata": {},
   "outputs": [
    {
     "data": {
      "text/plain": [
       "'12.3'"
      ]
     },
     "execution_count": 27,
     "metadata": {},
     "output_type": "execute_result"
    }
   ],
   "source": [
    "#str()\n",
    "\n",
    "a = 12.3\n",
    "b = str(a)\n",
    "\n",
    "b"
   ]
  },
  {
   "cell_type": "code",
   "execution_count": 1,
   "id": "62497d43-1291-4d6c-b477-76cdf750fb61",
   "metadata": {},
   "outputs": [
    {
     "data": {
      "text/plain": [
       "range(1, 10, 2)"
      ]
     },
     "execution_count": 1,
     "metadata": {},
     "output_type": "execute_result"
    }
   ],
   "source": [
    "#range()\n",
    "\n",
    "x = range(1, 10, 2)\n",
    "x"
   ]
  },
  {
   "cell_type": "code",
   "execution_count": 29,
   "id": "6d0f5f91-b35f-4f14-bac3-4576091e33ce",
   "metadata": {},
   "outputs": [
    {
     "data": {
      "text/plain": [
       "25"
      ]
     },
     "execution_count": 29,
     "metadata": {},
     "output_type": "execute_result"
    }
   ],
   "source": [
    "#sum()\n",
    "\n",
    "sum(range(1, 10, 2))"
   ]
  },
  {
   "cell_type": "code",
   "execution_count": 30,
   "id": "92e93181-7203-4331-b2cf-b96035916839",
   "metadata": {},
   "outputs": [
    {
     "data": {
      "text/plain": [
       "2"
      ]
     },
     "execution_count": 30,
     "metadata": {},
     "output_type": "execute_result"
    }
   ],
   "source": [
    "#len()\n",
    "\n",
    "x = [5, 4] #Later we will talk more about lists\n",
    "len(x)"
   ]
  },
  {
   "cell_type": "code",
   "execution_count": 31,
   "id": "fae32b82-794c-495b-be57-3b36a5382541",
   "metadata": {},
   "outputs": [
    {
     "data": {
      "text/plain": [
       "['__add__',\n",
       " '__class__',\n",
       " '__contains__',\n",
       " '__delattr__',\n",
       " '__dir__',\n",
       " '__doc__',\n",
       " '__eq__',\n",
       " '__format__',\n",
       " '__ge__',\n",
       " '__getattribute__',\n",
       " '__getitem__',\n",
       " '__getnewargs__',\n",
       " '__gt__',\n",
       " '__hash__',\n",
       " '__init__',\n",
       " '__init_subclass__',\n",
       " '__iter__',\n",
       " '__le__',\n",
       " '__len__',\n",
       " '__lt__',\n",
       " '__mod__',\n",
       " '__mul__',\n",
       " '__ne__',\n",
       " '__new__',\n",
       " '__reduce__',\n",
       " '__reduce_ex__',\n",
       " '__repr__',\n",
       " '__rmod__',\n",
       " '__rmul__',\n",
       " '__setattr__',\n",
       " '__sizeof__',\n",
       " '__str__',\n",
       " '__subclasshook__',\n",
       " 'capitalize',\n",
       " 'casefold',\n",
       " 'center',\n",
       " 'count',\n",
       " 'encode',\n",
       " 'endswith',\n",
       " 'expandtabs',\n",
       " 'find',\n",
       " 'format',\n",
       " 'format_map',\n",
       " 'index',\n",
       " 'isalnum',\n",
       " 'isalpha',\n",
       " 'isascii',\n",
       " 'isdecimal',\n",
       " 'isdigit',\n",
       " 'isidentifier',\n",
       " 'islower',\n",
       " 'isnumeric',\n",
       " 'isprintable',\n",
       " 'isspace',\n",
       " 'istitle',\n",
       " 'isupper',\n",
       " 'join',\n",
       " 'ljust',\n",
       " 'lower',\n",
       " 'lstrip',\n",
       " 'maketrans',\n",
       " 'partition',\n",
       " 'removeprefix',\n",
       " 'removesuffix',\n",
       " 'replace',\n",
       " 'rfind',\n",
       " 'rindex',\n",
       " 'rjust',\n",
       " 'rpartition',\n",
       " 'rsplit',\n",
       " 'rstrip',\n",
       " 'split',\n",
       " 'splitlines',\n",
       " 'startswith',\n",
       " 'strip',\n",
       " 'swapcase',\n",
       " 'title',\n",
       " 'translate',\n",
       " 'upper',\n",
       " 'zfill']"
      ]
     },
     "execution_count": 31,
     "metadata": {},
     "output_type": "execute_result"
    }
   ],
   "source": [
    "#dir()\n",
    "\n",
    "dir(str)"
   ]
  },
  {
   "cell_type": "code",
   "execution_count": 32,
   "id": "f12a62f6-7209-4741-9b4e-e0650071ebbf",
   "metadata": {},
   "outputs": [
    {
     "name": "stdout",
     "output_type": "stream",
     "text": [
      "Help on built-in function sum in module builtins:\n",
      "\n",
      "sum(iterable, /, start=0)\n",
      "    Return the sum of a 'start' value (default: 0) plus an iterable of numbers\n",
      "    \n",
      "    When the iterable is empty, return the start value.\n",
      "    This function is intended specifically for use with numeric values and may\n",
      "    reject non-numeric types.\n",
      "\n"
     ]
    }
   ],
   "source": [
    "#help()\n",
    "\n",
    "help(sum)"
   ]
  },
  {
   "cell_type": "markdown",
   "id": "61abb026-127c-49d5-b712-55a08a7aa7e0",
   "metadata": {},
   "source": [
    "## Defining Functions"
   ]
  },
  {
   "cell_type": "code",
   "execution_count": 34,
   "id": "5bffd3fe-465b-4dc8-9f4f-b9d2f4d2bf7a",
   "metadata": {},
   "outputs": [],
   "source": [
    "#The basic synatx\n",
    "\n",
    "def our_function(x, y):\n",
    "    return 2*x - y"
   ]
  },
  {
   "cell_type": "code",
   "execution_count": 35,
   "id": "b42edc0c-d97c-4129-b62d-9b775ae27f95",
   "metadata": {},
   "outputs": [
    {
     "data": {
      "text/plain": [
       "2"
      ]
     },
     "execution_count": 35,
     "metadata": {},
     "output_type": "execute_result"
    }
   ],
   "source": [
    "our_function(5, 8)"
   ]
  },
  {
   "cell_type": "code",
   "execution_count": 36,
   "id": "7e6eb8fb-ff74-434a-8248-cb7f9ade4b28",
   "metadata": {},
   "outputs": [
    {
     "data": {
      "text/plain": [
       "\"I can't believe I have no arguments!\""
      ]
     },
     "execution_count": 36,
     "metadata": {},
     "output_type": "execute_result"
    }
   ],
   "source": [
    "#The function may contain no arguments\n",
    "\n",
    "def say_it():\n",
    "    return \"I can't believe I have no arguments!\"\n",
    "\n",
    "say_it()"
   ]
  },
  {
   "cell_type": "code",
   "execution_count": 90,
   "id": "547210a0-c34a-428c-a4be-71e53d7cc232",
   "metadata": {},
   "outputs": [
    {
     "data": {
      "text/plain": [
       "'5'"
      ]
     },
     "execution_count": 90,
     "metadata": {},
     "output_type": "execute_result"
    }
   ],
   "source": [
    "#Python uses four spaces as default indentation. However, one space is enough\n",
    "\n",
    "def make_me_a_string(integer):\n",
    " return str(integer)\n",
    "\n",
    "make_me_a_string(5)"
   ]
  },
  {
   "cell_type": "code",
   "execution_count": 38,
   "id": "33a8ea85-4d4b-44bb-b085-c86d92d90d3a",
   "metadata": {},
   "outputs": [],
   "source": [
    "#The function's name should be short but informative\n",
    "\n",
    "def in_this_function_I_wish_to_return_the_sum_of_two_numbers(x, y):\n",
    "    return x + y\n",
    "\n",
    "def f(x, y):\n",
    "    return x + y\n",
    "\n",
    "def sum_of_two(x, y):\n",
    "    return x + y"
   ]
  },
  {
   "cell_type": "code",
   "execution_count": 39,
   "id": "b9cd926c-c03b-4acb-a7c5-d2f7f1e2d85b",
   "metadata": {},
   "outputs": [
    {
     "data": {
      "text/plain": [
       "2"
      ]
     },
     "execution_count": 39,
     "metadata": {},
     "output_type": "execute_result"
    }
   ],
   "source": [
    "#Arguments that have default values are called keyword arguments\n",
    "\n",
    "def f(x, a = -4, b = 3):\n",
    "    return a + b*x\n",
    "\n",
    "f(2)"
   ]
  },
  {
   "cell_type": "code",
   "execution_count": 40,
   "id": "b3038494-4a7d-43a4-b1e7-ea2b94ab80e8",
   "metadata": {},
   "outputs": [
    {
     "data": {
      "text/plain": [
       "3"
      ]
     },
     "execution_count": 40,
     "metadata": {},
     "output_type": "execute_result"
    }
   ],
   "source": [
    "#When calling the function, you can change their value\n",
    "\n",
    "f(2, a = 1, b = 1)"
   ]
  },
  {
   "cell_type": "code",
   "execution_count": 41,
   "id": "e1cb8796-1cd8-4b14-a3bb-07b1a9eb6574",
   "metadata": {},
   "outputs": [
    {
     "data": {
      "text/plain": [
       "3"
      ]
     },
     "execution_count": 41,
     "metadata": {},
     "output_type": "execute_result"
    }
   ],
   "source": [
    "#Changing their position does not affect the outcome\n",
    "\n",
    "f(2, b = 1, a = 1)"
   ]
  },
  {
   "cell_type": "code",
   "execution_count": 42,
   "id": "16f5cb4c-a734-4372-b6db-caac110f7f5b",
   "metadata": {},
   "outputs": [
    {
     "data": {
      "text/plain": [
       "0"
      ]
     },
     "execution_count": 42,
     "metadata": {},
     "output_type": "execute_result"
    }
   ],
   "source": [
    "#Arguments without default values are called positional arguments\n",
    "\n",
    "def max_min(x, y):\n",
    "    return max(x, y) - x\n",
    "\n",
    "max_min(5, 2)"
   ]
  },
  {
   "cell_type": "code",
   "execution_count": 43,
   "id": "4adb9d07-e747-4522-a803-2f6c7f61aa36",
   "metadata": {},
   "outputs": [
    {
     "data": {
      "text/plain": [
       "False"
      ]
     },
     "execution_count": 43,
     "metadata": {},
     "output_type": "execute_result"
    }
   ],
   "source": [
    "#Changing their position may affect the outcome\n",
    "\n",
    "max_min(5, 2) == max_min(2, 5)"
   ]
  },
  {
   "cell_type": "markdown",
   "id": "c40173a0-e980-459c-a1a4-e4832ceefaa5",
   "metadata": {},
   "source": [
    "## Practice Set 2"
   ]
  },
  {
   "cell_type": "code",
   "execution_count": 5,
   "id": "eb9cfe14-9c55-4f54-aa94-3e92d81e9933",
   "metadata": {},
   "outputs": [
    {
     "data": {
      "text/plain": [
       "1.375"
      ]
     },
     "execution_count": 5,
     "metadata": {},
     "output_type": "execute_result"
    }
   ],
   "source": [
    "#Define a function that returns the arithmetic mean of four numbers\n",
    "\n",
    "def mean(a, b, c, d):\n",
    "    return (a + b + c + d)/4\n",
    "\n",
    "mean(4, -6, 5.5, 2)"
   ]
  },
  {
   "cell_type": "code",
   "execution_count": 6,
   "id": "d1485622-4ddb-4f34-9de4-acdc6f1b3419",
   "metadata": {},
   "outputs": [
    {
     "name": "stdout",
     "output_type": "stream",
     "text": [
      "My age is 27\n"
     ]
    }
   ],
   "source": [
    "#Define a function that prints \"My age is x\", when x is an argument\n",
    "\n",
    "def my_age(age):\n",
    "    return print(\"My age is\", age)\n",
    "\n",
    "my_age(27)"
   ]
  },
  {
   "cell_type": "code",
   "execution_count": 7,
   "id": "d3967102-f742-436e-a726-1a6f1c789df0",
   "metadata": {},
   "outputs": [
    {
     "data": {
      "text/plain": [
       "5"
      ]
     },
     "execution_count": 7,
     "metadata": {},
     "output_type": "execute_result"
    }
   ],
   "source": [
    "#What would the following code return?\n",
    "\n",
    "def what(x):\n",
    "    return sum(range(x, x + 2)) - x\n",
    "\n",
    "what(4)"
   ]
  },
  {
   "cell_type": "markdown",
   "id": "81461c3e-633f-4ba1-a610-ecb8a356a791",
   "metadata": {},
   "source": [
    "## Methods"
   ]
  },
  {
   "cell_type": "code",
   "execution_count": 92,
   "id": "b0985a34-f928-43c8-9680-19fb7002faf8",
   "metadata": {},
   "outputs": [
    {
     "data": {
      "text/plain": [
       "'Hello Macro?'"
      ]
     },
     "execution_count": 92,
     "metadata": {},
     "output_type": "execute_result"
    }
   ],
   "source": [
    "string = \"Hello Macro!\"\n",
    "string.replace(\"!\", \"?\")"
   ]
  },
  {
   "cell_type": "code",
   "execution_count": 48,
   "id": "c644d331-c8da-4eec-b5f2-713d0ee588ec",
   "metadata": {},
   "outputs": [
    {
     "data": {
      "text/plain": [
       "'HELLO MACRO!'"
      ]
     },
     "execution_count": 48,
     "metadata": {},
     "output_type": "execute_result"
    }
   ],
   "source": [
    "#String methods: upper()\n",
    "\n",
    "string.upper()"
   ]
  },
  {
   "cell_type": "code",
   "execution_count": 49,
   "id": "542f1a54-177c-4523-be0e-eb8eb7c80c56",
   "metadata": {},
   "outputs": [
    {
     "data": {
      "text/plain": [
       "2"
      ]
     },
     "execution_count": 49,
     "metadata": {},
     "output_type": "execute_result"
    }
   ],
   "source": [
    "#String methods: count()\n",
    "\n",
    "string.count(\"l\")"
   ]
  },
  {
   "cell_type": "code",
   "execution_count": 50,
   "id": "c69132bd-835e-4e4f-b661-26577838c024",
   "metadata": {},
   "outputs": [
    {
     "data": {
      "text/plain": [
       "['Hello', 'Macro!']"
      ]
     },
     "execution_count": 50,
     "metadata": {},
     "output_type": "execute_result"
    }
   ],
   "source": [
    "string.split(\" \")"
   ]
  },
  {
   "cell_type": "markdown",
   "id": "6bc181b4-54e3-456b-a67b-4683ac1dc047",
   "metadata": {},
   "source": [
    "## Lists"
   ]
  },
  {
   "cell_type": "code",
   "execution_count": 51,
   "id": "193fbc08-5f0f-4585-b9ca-560bef29cea9",
   "metadata": {},
   "outputs": [],
   "source": [
    "lst = [\"Macroeconomics\", 2.4, 2 > 1, [\"A list inside a list!\"], -7]"
   ]
  },
  {
   "cell_type": "code",
   "execution_count": 52,
   "id": "398cd26c-539b-48fe-98d9-2ec269058340",
   "metadata": {},
   "outputs": [
    {
     "data": {
      "text/plain": [
       "'Macroeconomics'"
      ]
     },
     "execution_count": 52,
     "metadata": {},
     "output_type": "execute_result"
    }
   ],
   "source": [
    "#Lists are zero-based, so the first element is indexed 0\n",
    "\n",
    "lst[0]"
   ]
  },
  {
   "cell_type": "code",
   "execution_count": 53,
   "id": "cb942548-93df-4f1a-a822-a1d3ae0c48a2",
   "metadata": {},
   "outputs": [
    {
     "data": {
      "text/plain": [
       "True"
      ]
     },
     "execution_count": 53,
     "metadata": {},
     "output_type": "execute_result"
    }
   ],
   "source": [
    "lst[2]"
   ]
  },
  {
   "cell_type": "code",
   "execution_count": 54,
   "id": "bf576cd4-d108-4496-b258-2bcf5f790f5d",
   "metadata": {},
   "outputs": [
    {
     "data": {
      "text/plain": [
       "-7"
      ]
     },
     "execution_count": 54,
     "metadata": {},
     "output_type": "execute_result"
    }
   ],
   "source": [
    "#You can also access an element using negative indexing\n",
    "\n",
    "lst[-1]"
   ]
  },
  {
   "cell_type": "code",
   "execution_count": 55,
   "id": "77aed866-6a5b-4b4e-b463-598fa93a8ae3",
   "metadata": {},
   "outputs": [
    {
     "data": {
      "text/plain": [
       "True"
      ]
     },
     "execution_count": 55,
     "metadata": {},
     "output_type": "execute_result"
    }
   ],
   "source": [
    "lst[-3]"
   ]
  },
  {
   "cell_type": "code",
   "execution_count": 56,
   "id": "16740e14-309b-4d97-995d-de189fbfac47",
   "metadata": {},
   "outputs": [
    {
     "ename": "IndexError",
     "evalue": "list index out of range",
     "output_type": "error",
     "traceback": [
      "\u001b[1;31m---------------------------------------------------------------------------\u001b[0m",
      "\u001b[1;31mIndexError\u001b[0m                                Traceback (most recent call last)",
      "Input \u001b[1;32mIn [56]\u001b[0m, in \u001b[0;36m<module>\u001b[1;34m\u001b[0m\n\u001b[1;32m----> 1\u001b[0m \u001b[43mlst\u001b[49m\u001b[43m[\u001b[49m\u001b[38;5;241;43m-\u001b[39;49m\u001b[38;5;241;43m6\u001b[39;49m\u001b[43m]\u001b[49m\n",
      "\u001b[1;31mIndexError\u001b[0m: list index out of range"
     ]
    }
   ],
   "source": [
    "lst[-6]"
   ]
  },
  {
   "cell_type": "code",
   "execution_count": 57,
   "id": "a30c0f77-d3f2-469e-a2f9-88db295b075e",
   "metadata": {},
   "outputs": [
    {
     "data": {
      "text/plain": [
       "[2.4, True]"
      ]
     },
     "execution_count": 57,
     "metadata": {},
     "output_type": "execute_result"
    }
   ],
   "source": [
    "#You can also access multiple elements\n",
    "\n",
    "lst[1:3]"
   ]
  },
  {
   "cell_type": "code",
   "execution_count": 58,
   "id": "4119cb5d-f3d9-4b90-aa10-dc38ab84ab29",
   "metadata": {},
   "outputs": [
    {
     "data": {
      "text/plain": [
       "['Macroeconomics', 2.4, True, ['A list inside a list!']]"
      ]
     },
     "execution_count": 58,
     "metadata": {},
     "output_type": "execute_result"
    }
   ],
   "source": [
    "lst[:4]"
   ]
  },
  {
   "cell_type": "code",
   "execution_count": 59,
   "id": "a078ee88-f57d-43d3-9931-1cc1f2313ca7",
   "metadata": {},
   "outputs": [
    {
     "data": {
      "text/plain": [
       "[True, ['A list inside a list!'], -7]"
      ]
     },
     "execution_count": 59,
     "metadata": {},
     "output_type": "execute_result"
    }
   ],
   "source": [
    "lst[2:]"
   ]
  },
  {
   "cell_type": "code",
   "execution_count": 60,
   "id": "41ffe526-5d64-4dbc-bad5-31da1ff73d53",
   "metadata": {},
   "outputs": [
    {
     "data": {
      "text/plain": [
       "['Macroeconomics', True, -7]"
      ]
     },
     "execution_count": 60,
     "metadata": {},
     "output_type": "execute_result"
    }
   ],
   "source": [
    "lst[::2]"
   ]
  },
  {
   "cell_type": "code",
   "execution_count": 61,
   "id": "526653f1-3cb2-4c3d-802e-d6833c15d2a1",
   "metadata": {},
   "outputs": [
    {
     "data": {
      "text/plain": [
       "['Macroeconomics', True, -7]"
      ]
     },
     "execution_count": 61,
     "metadata": {},
     "output_type": "execute_result"
    }
   ],
   "source": [
    "lst[-5::2]"
   ]
  },
  {
   "cell_type": "code",
   "execution_count": 62,
   "id": "887e7463-24bc-4f2d-9f7f-52f7973051f5",
   "metadata": {},
   "outputs": [
    {
     "data": {
      "text/plain": [
       "[-7, ['A list inside a list!'], True, 2.4, 'Macroeconomics']"
      ]
     },
     "execution_count": 62,
     "metadata": {},
     "output_type": "execute_result"
    }
   ],
   "source": [
    "#Using a negative step reverses the order\n",
    "\n",
    "lst[::-1]"
   ]
  },
  {
   "cell_type": "code",
   "execution_count": 63,
   "id": "eefbf47e-f1d5-4073-8a15-6e9f191ea0cb",
   "metadata": {},
   "outputs": [
    {
     "data": {
      "text/plain": [
       "[-7, True, 'Macroeconomics']"
      ]
     },
     "execution_count": 63,
     "metadata": {},
     "output_type": "execute_result"
    }
   ],
   "source": [
    "lst[::-2]"
   ]
  },
  {
   "cell_type": "code",
   "execution_count": 64,
   "id": "2064a11f-11f8-451d-b9eb-fe28bc1ea1ac",
   "metadata": {},
   "outputs": [
    {
     "data": {
      "text/plain": [
       "['Macroeconomics', 2.4, True, ['A list inside a list!'], 7]"
      ]
     },
     "execution_count": 64,
     "metadata": {},
     "output_type": "execute_result"
    }
   ],
   "source": [
    "#Lists are mutable\n",
    "\n",
    "lst[4] = 7\n",
    "lst"
   ]
  },
  {
   "cell_type": "code",
   "execution_count": 65,
   "id": "878299a4-b1ce-49b3-ae95-4cc86813154f",
   "metadata": {},
   "outputs": [
    {
     "data": {
      "text/plain": [
       "[1, 2, 4, 4, 2]"
      ]
     },
     "execution_count": 65,
     "metadata": {},
     "output_type": "execute_result"
    }
   ],
   "source": [
    "lst[:] = [1, 2, 4, 4, 2]\n",
    "lst"
   ]
  },
  {
   "cell_type": "code",
   "execution_count": 66,
   "id": "2c96b713-d940-4b57-9e50-59e8fe787370",
   "metadata": {},
   "outputs": [
    {
     "data": {
      "text/plain": [
       "2"
      ]
     },
     "execution_count": 66,
     "metadata": {},
     "output_type": "execute_result"
    }
   ],
   "source": [
    "#Useful list methods: count()\n",
    "\n",
    "lst.count(4)"
   ]
  },
  {
   "cell_type": "code",
   "execution_count": 67,
   "id": "81b45ff5-8f4d-4541-bb3e-2d2baec7eea4",
   "metadata": {},
   "outputs": [
    {
     "data": {
      "text/plain": [
       "[1, 4, 4, 2]"
      ]
     },
     "execution_count": 67,
     "metadata": {},
     "output_type": "execute_result"
    }
   ],
   "source": [
    "#Useful list methods: remove()\n",
    "\n",
    "lst.remove(2)\n",
    "lst"
   ]
  },
  {
   "cell_type": "code",
   "execution_count": 68,
   "id": "81a6eb90-f3db-41c6-b51c-cf8aa436439a",
   "metadata": {},
   "outputs": [
    {
     "data": {
      "text/plain": [
       "[1, 4, 4, 2, 2]"
      ]
     },
     "execution_count": 68,
     "metadata": {},
     "output_type": "execute_result"
    }
   ],
   "source": [
    "#Useful list methods: append()\n",
    "\n",
    "lst.append(2)\n",
    "lst"
   ]
  },
  {
   "cell_type": "code",
   "execution_count": 69,
   "id": "825c82d6-3f57-40e2-88f5-2b90916c8e73",
   "metadata": {},
   "outputs": [
    {
     "data": {
      "text/plain": [
       "[1, 2, 2, 4, 4]"
      ]
     },
     "execution_count": 69,
     "metadata": {},
     "output_type": "execute_result"
    }
   ],
   "source": [
    "#Useful list methods: sort()\n",
    "\n",
    "lst.sort()\n",
    "lst"
   ]
  },
  {
   "cell_type": "code",
   "execution_count": 70,
   "id": "89134dae-ed1b-4755-b299-3f6eb727d318",
   "metadata": {},
   "outputs": [
    {
     "data": {
      "text/plain": [
       "[]"
      ]
     },
     "execution_count": 70,
     "metadata": {},
     "output_type": "execute_result"
    }
   ],
   "source": [
    "#Useful list methods: clear()\n",
    "\n",
    "lst.clear()\n",
    "lst"
   ]
  },
  {
   "cell_type": "markdown",
   "id": "bfc3b9cd-dfe6-4694-a148-c451d814c695",
   "metadata": {},
   "source": [
    "## Tuples"
   ]
  },
  {
   "cell_type": "code",
   "execution_count": 71,
   "id": "38d506a8-4a87-4082-82d3-222aa6fb9c32",
   "metadata": {},
   "outputs": [],
   "source": [
    "tple = (\"Hi Again\", (2, 3), [\"a\", \"b\", 12], type(5) == str, 42)"
   ]
  },
  {
   "cell_type": "code",
   "execution_count": 72,
   "id": "c7ff5c61-11ab-4324-b413-0536d1687097",
   "metadata": {},
   "outputs": [
    {
     "data": {
      "text/plain": [
       "'Hi Again'"
      ]
     },
     "execution_count": 72,
     "metadata": {},
     "output_type": "execute_result"
    }
   ],
   "source": [
    "#Tuples and lists have the same indexing and slice notation\n",
    "\n",
    "tple[0]"
   ]
  },
  {
   "cell_type": "code",
   "execution_count": 73,
   "id": "df73ab52-9654-41bd-b7eb-aa26a7c18b01",
   "metadata": {},
   "outputs": [
    {
     "data": {
      "text/plain": [
       "(['a', 'b', 12], 42)"
      ]
     },
     "execution_count": 73,
     "metadata": {},
     "output_type": "execute_result"
    }
   ],
   "source": [
    "tple[2:5:2]"
   ]
  },
  {
   "cell_type": "code",
   "execution_count": 74,
   "id": "da605e3b-364b-4cd5-9125-fcfcf6920c95",
   "metadata": {},
   "outputs": [
    {
     "data": {
      "text/plain": [
       "12"
      ]
     },
     "execution_count": 74,
     "metadata": {},
     "output_type": "execute_result"
    }
   ],
   "source": [
    "#You can use double (or multiple) indexing\n",
    "\n",
    "tple[2][2]"
   ]
  },
  {
   "cell_type": "code",
   "execution_count": 75,
   "id": "95083740-2216-43b8-aab8-18ba828ceadf",
   "metadata": {},
   "outputs": [
    {
     "ename": "AttributeError",
     "evalue": "'tuple' object has no attribute 'append'",
     "output_type": "error",
     "traceback": [
      "\u001b[1;31m---------------------------------------------------------------------------\u001b[0m",
      "\u001b[1;31mAttributeError\u001b[0m                            Traceback (most recent call last)",
      "Input \u001b[1;32mIn [75]\u001b[0m, in \u001b[0;36m<module>\u001b[1;34m\u001b[0m\n\u001b[0;32m      1\u001b[0m \u001b[38;5;66;03m#Remember: tuples are immutable\u001b[39;00m\n\u001b[1;32m----> 3\u001b[0m \u001b[43mtple\u001b[49m\u001b[38;5;241;43m.\u001b[39;49m\u001b[43mappend\u001b[49m(\u001b[38;5;241m5\u001b[39m)\n",
      "\u001b[1;31mAttributeError\u001b[0m: 'tuple' object has no attribute 'append'"
     ]
    }
   ],
   "source": [
    "#Remember: tuples are immutable\n",
    "\n",
    "tple.append(5)"
   ]
  },
  {
   "cell_type": "markdown",
   "id": "f740069f-92f3-46ba-8f28-a3c7c92f5f2b",
   "metadata": {},
   "source": [
    "## Dictionaries"
   ]
  },
  {
   "cell_type": "code",
   "execution_count": 77,
   "id": "20549219-676d-4880-9dc0-c05334051dea",
   "metadata": {},
   "outputs": [],
   "source": [
    "dic = {\"name\": \"David\", \"subject\": \"Macroeconomic Theory 2\", \"grade\": 94}"
   ]
  },
  {
   "cell_type": "code",
   "execution_count": 78,
   "id": "4f3eef07-091f-49c5-a7d0-0bd979a4f9fe",
   "metadata": {},
   "outputs": [
    {
     "data": {
      "text/plain": [
       "'David'"
      ]
     },
     "execution_count": 78,
     "metadata": {},
     "output_type": "execute_result"
    }
   ],
   "source": [
    "#To access a given value, call its key\n",
    "\n",
    "dic[\"name\"]"
   ]
  },
  {
   "cell_type": "code",
   "execution_count": 80,
   "id": "992da3e4-b545-4d1a-a296-42c00defb542",
   "metadata": {},
   "outputs": [
    {
     "data": {
      "text/plain": [
       "'Eden'"
      ]
     },
     "execution_count": 80,
     "metadata": {},
     "output_type": "execute_result"
    }
   ],
   "source": [
    "#Dictionaries are mutable\n",
    "\n",
    "dic[\"name\"] = \"Eden\"\n",
    "dic[\"name\"]"
   ]
  },
  {
   "cell_type": "code",
   "execution_count": 81,
   "id": "00bfd374-f968-47ac-a9b6-26efdc166e07",
   "metadata": {},
   "outputs": [
    {
     "data": {
      "text/plain": [
       "dict_keys(['name', 'subject', 'grade'])"
      ]
     },
     "execution_count": 81,
     "metadata": {},
     "output_type": "execute_result"
    }
   ],
   "source": [
    "#Useful dictionary methods: keys()\n",
    "\n",
    "dic.keys()"
   ]
  },
  {
   "cell_type": "code",
   "execution_count": 82,
   "id": "06aac050-fdd6-49ad-9de5-78e0c0272d36",
   "metadata": {},
   "outputs": [
    {
     "data": {
      "text/plain": [
       "dict_values(['Eden', 'Macroeconomic Theory 2', 94])"
      ]
     },
     "execution_count": 82,
     "metadata": {},
     "output_type": "execute_result"
    }
   ],
   "source": [
    "#Useful dictionary methods: values()\n",
    "\n",
    "dic.values()"
   ]
  },
  {
   "cell_type": "code",
   "execution_count": 83,
   "id": "e461c87d-5ebc-47d5-9ea8-379f7ee17369",
   "metadata": {},
   "outputs": [
    {
     "data": {
      "text/plain": [
       "{'name': 'Eden', 'grade': 94}"
      ]
     },
     "execution_count": 83,
     "metadata": {},
     "output_type": "execute_result"
    }
   ],
   "source": [
    "#Useful dictionary methods: pop()\n",
    "\n",
    "dic.pop(\"subject\")\n",
    "dic"
   ]
  },
  {
   "cell_type": "markdown",
   "id": "e73d19b2-8da5-45dd-898c-0d1c1301896d",
   "metadata": {},
   "source": [
    "## Practice Set 3"
   ]
  },
  {
   "cell_type": "code",
   "execution_count": 3,
   "id": "6b972373-3f7e-42da-ba21-261b47fcfddd",
   "metadata": {},
   "outputs": [
    {
     "data": {
      "text/plain": [
       "'I am hungry!'"
      ]
     },
     "execution_count": 3,
     "metadata": {},
     "output_type": "execute_result"
    }
   ],
   "source": [
    "#Define a function that capitalizes a given text\n",
    "\n",
    "def cap(txt):\n",
    "    return txt.capitalize()\n",
    "\n",
    "cap(\"i am hungry!\")"
   ]
  },
  {
   "cell_type": "code",
   "execution_count": 9,
   "id": "a907999a-181a-4c60-9281-c42ca92f128a",
   "metadata": {},
   "outputs": [
    {
     "data": {
      "text/plain": [
       "6.8"
      ]
     },
     "execution_count": 9,
     "metadata": {},
     "output_type": "execute_result"
    }
   ],
   "source": [
    "#Define a function that returns the mean of a given list\n",
    "\n",
    "def mean(lst):\n",
    "    return sum(lst)/len(lst)\n",
    "  \n",
    "x = [4, 2, 7, 12, 9]\n",
    "mean(x)"
   ]
  },
  {
   "cell_type": "code",
   "execution_count": 10,
   "id": "83e12126-2b1a-496b-a735-069ff001b31b",
   "metadata": {},
   "outputs": [
    {
     "data": {
      "text/plain": [
       "89.2"
      ]
     },
     "execution_count": 10,
     "metadata": {},
     "output_type": "execute_result"
    }
   ],
   "source": [
    "#Define a function that returns the mean of the values in a given dictionary\n",
    "\n",
    "def mean_grades(dic):\n",
    "    return sum(dic.values())/len(dic.values())\n",
    "\n",
    "macro = {\"A\": 96, \"B\": 88, \"C\": 79, \"D\": 98, \"E\": 85}\n",
    "\n",
    "mean_grades(macro)"
   ]
  },
  {
   "cell_type": "code",
   "execution_count": 88,
   "id": "79611f68-4692-4c11-b37b-e57e51fdaf4d",
   "metadata": {},
   "outputs": [],
   "source": [
    "#What would the following code return?\n",
    "\n",
    "complex_dict = {\"Alex\": (3, 15, [2, 0, True], \"?\"), \"Ben\": {\"A\": 1, \"B\": [0, 4, 2]}, \"Chloe\": ()}\n",
    "sum(complex_dict[\"Ben\"][\"B\"][::-1])"
   ]
  },
  {
   "cell_type": "code",
   "execution_count": 1,
   "id": "68a79297-5b1b-4e00-ba00-ec57ce0d6f4f",
   "metadata": {},
   "outputs": [
    {
     "data": {
      "text/plain": [
       "['My',\n",
       " 'name',\n",
       " 'is',\n",
       " 'Dan',\n",
       " 'and',\n",
       " 'I',\n",
       " 'am',\n",
       " '47',\n",
       " 'years',\n",
       " 'old.',\n",
       " 'I',\n",
       " 'AM',\n",
       " 'SO',\n",
       " 'HAPPY',\n",
       " 'TO',\n",
       " 'BE',\n",
       " 'HERE!']"
      ]
     },
     "execution_count": 1,
     "metadata": {},
     "output_type": "execute_result"
    }
   ],
   "source": [
    "#Write a code that applies the format(), upper() and split() methods\n",
    "\n",
    "text1 = \"My name is {} and I am {} years old.\".format(\"Dan\", 47)\n",
    "text2 = \" I am so happy to be here!\".upper()\n",
    "\n",
    "merged_text = text1 + text2\n",
    "lst = merged_text.split(\" \")\n",
    "\n",
    "lst"
   ]
  },
  {
   "cell_type": "markdown",
   "id": "6a42f18d-1c23-4a10-81ca-d2afc8acbef4",
   "metadata": {},
   "source": [
    "## The \"if\" Statement"
   ]
  },
  {
   "cell_type": "code",
   "execution_count": 3,
   "id": "9bff9a32-0bdc-4d0d-9110-858b1b1709ba",
   "metadata": {},
   "outputs": [
    {
     "name": "stdout",
     "output_type": "stream",
     "text": [
      "x is greater than y!\n"
     ]
    }
   ],
   "source": [
    "x, y = 4, 2\n",
    "\n",
    "if x > y:\n",
    "    print(\"x is greater than y!\")\n",
    "elif x == y:\n",
    "    print(\"x is equal to y!\")\n",
    "else:\n",
    "    print(\"x is less than y!\")"
   ]
  },
  {
   "cell_type": "code",
   "execution_count": 4,
   "id": "d7800e1d-a575-42a5-acf5-358690d61961",
   "metadata": {},
   "outputs": [
    {
     "name": "stdout",
     "output_type": "stream",
     "text": [
      "x is between 2 and 5.\n"
     ]
    }
   ],
   "source": [
    "#You can add multiple elif statements.\n",
    "\n",
    "if x > 5:\n",
    "    print(\"x is greater than 5.\")\n",
    "elif x == 5:\n",
    "    print(\"x equals 5.\")\n",
    "elif  2 < x < 5:\n",
    "    print(\"x is between 2 and 5.\")\n",
    "elif x == 2:\n",
    "    print(\"x equals 2\")\n",
    "else:\n",
    "    print(\"x is less than 2.\")"
   ]
  },
  {
   "cell_type": "code",
   "execution_count": 5,
   "id": "93a2c96d-5d57-4d85-b17c-bd7b096ccddb",
   "metadata": {},
   "outputs": [],
   "source": [
    "#Or have only a single if statement.\n",
    "\n",
    "def check_start(txt):\n",
    "    if txt.startswith(\"Winter\"):\n",
    "        print(\"Nothing burns like the cold.\")\n",
    "\n",
    "claim = \"Summer is coming.\"\n",
    "check_start(claim)"
   ]
  },
  {
   "cell_type": "code",
   "execution_count": 6,
   "id": "b091404c-9bee-463d-9065-e94716494251",
   "metadata": {},
   "outputs": [
    {
     "data": {
      "text/plain": [
       "4"
      ]
     },
     "execution_count": 6,
     "metadata": {},
     "output_type": "execute_result"
    }
   ],
   "source": [
    "#As the last example indicates, functions may contain if statements.\n",
    "\n",
    "def absolute(x):\n",
    "    if x >= 0:\n",
    "        return x\n",
    "    else:\n",
    "        return -x\n",
    "    \n",
    "absolute(-4)"
   ]
  },
  {
   "cell_type": "code",
   "execution_count": 7,
   "id": "30bc8b89-6069-49b2-bc8e-5ec36b9d2722",
   "metadata": {},
   "outputs": [
    {
     "data": {
      "text/plain": [
       "'Ascending order'"
      ]
     },
     "execution_count": 7,
     "metadata": {},
     "output_type": "execute_result"
    }
   ],
   "source": [
    "#The \"and\" logical operator:\n",
    "\n",
    "def ascend(a, b, c):\n",
    "    if a < b and b < c:\n",
    "        return \"Ascending order\"\n",
    "    \n",
    "ascend(2, 3, 5)"
   ]
  },
  {
   "cell_type": "code",
   "execution_count": 8,
   "id": "0b49c1f4-0491-420a-badb-0825935be3db",
   "metadata": {},
   "outputs": [
    {
     "name": "stdin",
     "output_type": "stream",
     "text": [
      "Do you agree that Pizza is way better than Sushi? Yes/No/Not sure YES\n"
     ]
    },
    {
     "data": {
      "text/plain": [
       "\"So let's go east some pizza.\""
      ]
     },
     "execution_count": 8,
     "metadata": {},
     "output_type": "execute_result"
    }
   ],
   "source": [
    "#The \"or\" logical operator:\n",
    "\n",
    "def check_answer():\n",
    "    answer = input(\"Do you agree that Pizza is way better than Sushi? Yes/No/Not sure\")\n",
    "    if answer.lower().capitalize() == \"Yes\" or answer.lower().capitalize() == \"Not sure\":\n",
    "        return \"So let's go east some pizza.\"\n",
    "    else:\n",
    "        return \"OK bye then.\" \n",
    "\n",
    "check_answer()"
   ]
  },
  {
   "cell_type": "code",
   "execution_count": 9,
   "id": "c9360675-799b-4c99-9ea7-721d5236f953",
   "metadata": {},
   "outputs": [
    {
     "name": "stdout",
     "output_type": "stream",
     "text": [
      "1002 is greater than 232\n"
     ]
    }
   ],
   "source": [
    "#The \"not\" logical operator:\n",
    "\n",
    "def compare(x, y):\n",
    "    if not max(x, y) > min(x, y):\n",
    "        print(\"x equals y\")\n",
    "    else:\n",
    "        print(max(x, y), \"is greater than\", min(x, y))\n",
    "    \n",
    "compare(232, 1002)"
   ]
  },
  {
   "cell_type": "markdown",
   "id": "73758a41-2bae-4ca2-9920-b08b7b89b998",
   "metadata": {},
   "source": [
    "## The \"for\" Loop"
   ]
  },
  {
   "cell_type": "code",
   "execution_count": 12,
   "id": "846d84be-32f1-4fee-a489-581a56c125fe",
   "metadata": {},
   "outputs": [
    {
     "data": {
      "text/plain": [
       "[0, 2, 4, 6, 8, 10, 12, 14, 16, 18]"
      ]
     },
     "execution_count": 12,
     "metadata": {},
     "output_type": "execute_result"
    }
   ],
   "source": [
    "lst = []\n",
    "\n",
    "for i in range(10):\n",
    "    lst.append(2*i)\n",
    "    \n",
    "lst"
   ]
  },
  {
   "cell_type": "code",
   "execution_count": 15,
   "id": "d7132aae-9f5a-4bb6-9b80-659d15d52f32",
   "metadata": {},
   "outputs": [
    {
     "name": "stdout",
     "output_type": "stream",
     "text": [
      "The plural of dog is dogs\n",
      "The plural of cat is cats\n",
      "The plural of cow is cows\n",
      "The plural of fish is fish\n"
     ]
    }
   ],
   "source": [
    "#\"for\" loops may contain \"if\" statements.\n",
    "\n",
    "animals = [\"dog\", \"cat\", \"cow\", \"fish\"]\n",
    "\n",
    "for animal in animals:\n",
    "    if animal == \"fish\":\n",
    "        print(\"The plural of\" + \" \" + animal + \" \" + \"is\" + \" \" + animal)\n",
    "    else:\n",
    "        print(\"The plural of\" + \" \" + animal + \" \" + \"is\" + \" \" + animal + \"s\")"
   ]
  },
  {
   "cell_type": "code",
   "execution_count": 22,
   "id": "bb5e29f0-3b75-449e-8c4d-9db1dfa6242c",
   "metadata": {},
   "outputs": [
    {
     "data": {
      "text/plain": [
       "[0.3, 0.5, 0.2]"
      ]
     },
     "execution_count": 22,
     "metadata": {},
     "output_type": "execute_result"
    }
   ],
   "source": [
    "#Functions may contain \"for\" loops.\n",
    "\n",
    "def divide_by_sum(lst):\n",
    "    new_lst = []\n",
    "    for i in lst:\n",
    "        new_lst.append(i/sum(lst))\n",
    "    lst = new_lst\n",
    "    return lst\n",
    "        \n",
    "divide_by_sum([3, 5, 2])"
   ]
  },
  {
   "cell_type": "code",
   "execution_count": 23,
   "id": "0b6382a8-a62c-4256-b649-b417a559d957",
   "metadata": {},
   "outputs": [
    {
     "name": "stdout",
     "output_type": "stream",
     "text": [
      "Alex got 94 in the final exam.\n",
      "Becky got 88 in the final exam.\n",
      "Corey got 100 in the final exam.\n"
     ]
    }
   ],
   "source": [
    "#The zip function allows to pair items from different containers.\n",
    "\n",
    "names = [\"Alex\", \"Becky\", \"Corey\"]\n",
    "grades = [94, 88, 100]\n",
    "\n",
    "for i, j in zip(names, grades):\n",
    "    print(i, \"got\", j, \"in the final exam.\")"
   ]
  },
  {
   "cell_type": "code",
   "execution_count": 24,
   "id": "01b04a46-6b63-44a5-a8c3-4362cd9bd607",
   "metadata": {},
   "outputs": [
    {
     "data": {
      "text/plain": [
       "[3, 9, 10]"
      ]
     },
     "execution_count": 24,
     "metadata": {},
     "output_type": "execute_result"
    }
   ],
   "source": [
    "x = [1, 4, 8]\n",
    "y = [2, 5, 2]\n",
    "z = []\n",
    "\n",
    "for i, j in zip(x, y):\n",
    "    z.append(i + j)\n",
    "    \n",
    "z"
   ]
  },
  {
   "cell_type": "markdown",
   "id": "feb6a939-5661-4716-bf48-289d2aa35714",
   "metadata": {},
   "source": [
    "## Practice Set 4"
   ]
  },
  {
   "cell_type": "code",
   "execution_count": 32,
   "id": "9c1ecb14-68c2-492e-b010-029b38424fa0",
   "metadata": {},
   "outputs": [
    {
     "data": {
      "text/plain": [
       "[3, 1, 4, 7, 3, 2, 8, 2, 0, 5]"
      ]
     },
     "execution_count": 32,
     "metadata": {},
     "output_type": "execute_result"
    }
   ],
   "source": [
    "#Define a function that takes a list containing numbers (either floats or integers).\n",
    "#The function then replaces each element with the same element minus the list's minimum.\n",
    "#Finally, it prints the new list.\n",
    "\n",
    "def sub_min(lst):\n",
    "    lst = [i - min(lst) for i in lst]\n",
    "    return lst\n",
    "\n",
    "my_list = [4, 2, 5, 8, 4, 3, 9, 3, 1, 6]\n",
    "sub_min(my_list)"
   ]
  },
  {
   "cell_type": "code",
   "execution_count": 34,
   "id": "408d9046-895c-4334-a733-6b8cd61fbc22",
   "metadata": {},
   "outputs": [
    {
     "data": {
      "text/plain": [
       "[-1, -1, 1, 1, -1, -1, 1, -1, -1, 1]"
      ]
     },
     "execution_count": 34,
     "metadata": {},
     "output_type": "execute_result"
    }
   ],
   "source": [
    "#Define a function that takes a list containing numbers (either floats or integers).\n",
    "#The function then replaces an element with 1 if the element is greater than the list's average.\n",
    "#Otherwise, the function replaces the element with -1.\n",
    "#Finally, it prints the new list.\n",
    "\n",
    "def replace_by_mean(lst):\n",
    "    mean = sum(lst)/len(lst)\n",
    "    lst = [1 if i > mean else -1 for i in lst]\n",
    "    return lst\n",
    "\n",
    "replace_by_mean(my_list)"
   ]
  },
  {
   "cell_type": "code",
   "execution_count": 35,
   "id": "776c0fab-7342-49a5-8e99-b56b2ad8dd11",
   "metadata": {},
   "outputs": [
    {
     "data": {
      "text/plain": [
       "{1: 'One', 2: 'Two', 3: 'Three'}"
      ]
     },
     "execution_count": 35,
     "metadata": {},
     "output_type": "execute_result"
    }
   ],
   "source": [
    "#What would the following code return?\n",
    "\n",
    "dic = {\"One\": 1, \"Two\": 2, \"Three\": 3}\n",
    "new_dic = {}\n",
    "\n",
    "for key, value in dic.items():\n",
    "    new_dic[value] = key\n",
    "    \n",
    "new_dic"
   ]
  },
  {
   "cell_type": "code",
   "execution_count": 36,
   "id": "2049a960-1544-4f3b-a194-fe071029500d",
   "metadata": {},
   "outputs": [
    {
     "data": {
      "text/plain": [
       "[1, 3, 7, 15, 31]"
      ]
     },
     "execution_count": 36,
     "metadata": {},
     "output_type": "execute_result"
    }
   ],
   "source": [
    "#Create a list with five elements, where a_0 = 0 and a_{n+1} = 2a_n+1.\n",
    "\n",
    "x = [0] * 5\n",
    "\n",
    "for i in range(5):\n",
    "    x[i] = 2*x[i-1] + 1\n",
    "    \n",
    "x"
   ]
  }
 ],
 "metadata": {
  "kernelspec": {
   "display_name": "Python 3 (ipykernel)",
   "language": "python",
   "name": "python3"
  },
  "language_info": {
   "codemirror_mode": {
    "name": "ipython",
    "version": 3
   },
   "file_extension": ".py",
   "mimetype": "text/x-python",
   "name": "python",
   "nbconvert_exporter": "python",
   "pygments_lexer": "ipython3",
   "version": "3.9.9"
  }
 },
 "nbformat": 4,
 "nbformat_minor": 5
}
