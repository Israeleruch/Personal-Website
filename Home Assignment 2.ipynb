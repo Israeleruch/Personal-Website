{
 "cells": [
  {
   "cell_type": "markdown",
   "id": "76f68855-c62d-47d7-8768-35933a60e5ed",
   "metadata": {},
   "source": [
    "# Home Assignment 2"
   ]
  },
  {
   "cell_type": "markdown",
   "id": "ef6b26f8-f50f-459e-9632-5356d6910a72",
   "metadata": {},
   "source": [
    "## Your Name: "
   ]
  },
  {
   "cell_type": "markdown",
   "id": "e7da936c-db48-4da5-9fb4-fa082a30e245",
   "metadata": {},
   "source": [
    "## Question 1"
   ]
  },
  {
   "cell_type": "markdown",
   "id": "fa9c1090-1a46-4b56-a9a7-4d8a17db60c2",
   "metadata": {},
   "source": [
    "Define a function that:\n",
    "\n",
    "* Takes a dictionary of students' names and grades as input.\n",
    "* Prints \"The highest grade is greater than the average grade by x points\", where x is taken from the dictionary. "
   ]
  },
  {
   "cell_type": "code",
   "execution_count": null,
   "id": "e434f658-9f7e-474d-a86a-777756ef212d",
   "metadata": {},
   "outputs": [],
   "source": []
  },
  {
   "cell_type": "markdown",
   "id": "9fb66540-7cb3-4035-b783-28a2f7b7e82b",
   "metadata": {},
   "source": [
    "## Question 2"
   ]
  },
  {
   "cell_type": "markdown",
   "id": "ebedeb46-000f-4f88-83b0-4634fec47651",
   "metadata": {},
   "source": [
    "Define a function that:\n",
    " * Takes a name as input.\n",
    " * Asks the user: \"What is the value of pi? Please provide at least two numbers after the decimal point.\"\n",
    " * Rounds the answer to two decimal points.\n",
    " * If the rounded answer equals 3.14, prints: \"Well done, (name)!\", where the name is the function's argument.\n",
    " * Otherwise, prints: \"You still got a lot to learn, (name).\""
   ]
  },
  {
   "cell_type": "code",
   "execution_count": null,
   "id": "71fceea7-9b71-432c-971c-980a480dd22d",
   "metadata": {},
   "outputs": [],
   "source": []
  },
  {
   "cell_type": "markdown",
   "id": "e726eda3-0001-49fc-87a2-99fd86972f24",
   "metadata": {},
   "source": [
    "## Question 3"
   ]
  },
  {
   "cell_type": "markdown",
   "id": "7ba866fd-b0bc-4fe2-a0d2-221abff8121b",
   "metadata": {},
   "source": [
    "Define a function that:\n",
    "\n",
    " * Takes two lists of positive numbers (either floats or integers) of the same size, which represent two dynamic allocations of per-capita consumption in the Solow or Ramsey models.\n",
    " * Uses the all() and any() built-in functions to determine whether the second allocation is dynamically inefficient, according to the Solow or Ramsey models. **Note: make sure to review the concept of dynamic efficiency we learned before.**\n",
    " * If the second allocation is inefficient, the function should print \"Allocation 2 is dynamically inefficient\". \n",
    " * Otherwise, the function should print \"Allocation 2 may be dynamically efficient\".\n",
    " * Note that the function assumes that the two lists have the same size, and that it will raise an error if they don't."
   ]
  },
  {
   "cell_type": "code",
   "execution_count": null,
   "id": "f14cc638-3eea-4987-a72a-108ef398114d",
   "metadata": {},
   "outputs": [],
   "source": []
  },
  {
   "cell_type": "markdown",
   "id": "ce697806-ccc7-43b6-b010-503c58fb9a03",
   "metadata": {},
   "source": [
    "## Question 4"
   ]
  },
  {
   "cell_type": "markdown",
   "id": "b53066b2-0aa5-488c-8353-062fb0e5f120",
   "metadata": {},
   "source": [
    "Define a function that:\n",
    "\n",
    " * Takes a list of numbers, lst, and a number, x,  as input. All numbers can be either floats or integers.\n",
    " * Calculates the list's mean, maximum, and minimum values.\n",
    " * If the list's mean is smaller than or equal to x, the function removes the minimum value from the list and returns the new list's mean.\n",
    " * Otherwise, it removes the maximum value from the list and returns the mean of the new list."
   ]
  },
  {
   "cell_type": "code",
   "execution_count": null,
   "id": "f27f7499-448a-4ab2-b0e3-75885a8e2b8e",
   "metadata": {},
   "outputs": [],
   "source": []
  }
 ],
 "metadata": {
  "kernelspec": {
   "display_name": "Python 3 (ipykernel)",
   "language": "python",
   "name": "python3"
  },
  "language_info": {
   "codemirror_mode": {
    "name": "ipython",
    "version": 3
   },
   "file_extension": ".py",
   "mimetype": "text/x-python",
   "name": "python",
   "nbconvert_exporter": "python",
   "pygments_lexer": "ipython3",
   "version": "3.9.9"
  }
 },
 "nbformat": 4,
 "nbformat_minor": 5
}
