{
 "cells": [
  {
   "cell_type": "markdown",
   "id": "12b36295-be04-417a-869b-0a68f9095f48",
   "metadata": {},
   "source": [
    "# Home Assignment 3"
   ]
  },
  {
   "cell_type": "markdown",
   "id": "3d6acb20-e71a-4f94-861b-0a9ec399638d",
   "metadata": {},
   "source": [
    "## Your Name:"
   ]
  },
  {
   "cell_type": "markdown",
   "id": "104ba242-312f-47c7-9026-a8ac81c99ac2",
   "metadata": {},
   "source": [
    "## Question 1"
   ]
  },
  {
   "cell_type": "markdown",
   "id": "81228bfa-7a2e-4f0c-8889-95615502e677",
   "metadata": {},
   "source": [
    "Define a function that:\n",
    "\n",
    "* Takes a list as input.\n",
    "* Calculates the list's mean.\n",
    "* For each of the list's elements, prints 1 if it's greater than or equal to the mean and 0 otherwise.\n",
    "* **Note: In defining the function, use a \"for\" loop and an \"if\" statement. Do not use any external library!**"
   ]
  },
  {
   "cell_type": "code",
   "execution_count": null,
   "id": "2a74ec04-27a4-40b6-81fc-0793409041d2",
   "metadata": {},
   "outputs": [],
   "source": []
  },
  {
   "cell_type": "markdown",
   "id": "ed32d4f6-67cc-4e3d-b0cf-3ca063a41112",
   "metadata": {},
   "source": [
    "## Question 2"
   ]
  },
  {
   "cell_type": "markdown",
   "id": "cb2ff757-3ebd-4762-a557-3bcfc7567fa2",
   "metadata": {},
   "source": [
    "* Answer again the previous question, but this time using NumPy. \n",
    "* **Do not use a \"for\" loop or an \"if\" statement!**"
   ]
  },
  {
   "cell_type": "code",
   "execution_count": null,
   "id": "d89b8b65-7d7b-4fd6-955b-ac8c0fc6774f",
   "metadata": {},
   "outputs": [],
   "source": []
  },
  {
   "cell_type": "markdown",
   "id": "b71709cd-ea4d-4649-b55b-736e54c860b7",
   "metadata": {},
   "source": [
    "## Question 3"
   ]
  },
  {
   "cell_type": "markdown",
   "id": "92a7bd85-4733-4282-ae14-5f3200b284e2",
   "metadata": {},
   "source": [
    "Define a function that:\n",
    "* Takes a positive integer n and a postivie number p (integer or float) as input.\n",
    "* Generates a Fibonacci sequence with n elements.\n",
    "* Returns the index of the first element in this sequence greater than p.\n",
    "* **Note: Make sure to use NumPy.**"
   ]
  },
  {
   "cell_type": "code",
   "execution_count": null,
   "id": "7bf72de3-f2e5-49ec-96ea-ef37fee46ee8",
   "metadata": {},
   "outputs": [],
   "source": []
  },
  {
   "cell_type": "markdown",
   "id": "0c4b4aa6-7095-4716-b854-2d600b566941",
   "metadata": {},
   "source": [
    "## Question 4"
   ]
  },
  {
   "cell_type": "markdown",
   "id": "67e2fd28-7ff6-41cf-a326-13e908dd3426",
   "metadata": {},
   "source": [
    "Define a function that:\n",
    "\n",
    "* Takes three numbers, a, b, and n, as input: a and b are real numbers with a < b, and n is a positive integer.\n",
    "* Generates an array of n uniformly-distributed elements, where a and b are the distribution's lower and upper bounds, respectively.\n",
    "* Calculates the array's mean and standard deviation.\n",
    "* Returns the mean divided by the standard deviation."
   ]
  },
  {
   "cell_type": "code",
   "execution_count": null,
   "id": "29274c4b-7de4-49d1-87b7-f1b7c71de092",
   "metadata": {},
   "outputs": [],
   "source": []
  },
  {
   "cell_type": "markdown",
   "id": "9226a3e9-7f23-4540-b130-f34910ada5af",
   "metadata": {},
   "source": [
    "## Question 5: Bonus (ungraded) question; just try your best!"
   ]
  },
  {
   "cell_type": "markdown",
   "id": "e2d8a065-2f22-4239-8f73-ff95850bba82",
   "metadata": {},
   "source": [
    " Define a function that:\n",
    " \n",
    " * Takes a list of integers as input.\n",
    " * Calculates a new list whose elements are the absolute differences between adjacent elements in the original list.\n",
    "   **Note that if the original list has n elements, the new list must have n-1 elements.**\n",
    " * Repeats the process until the list has only one element.\n",
    " * Prints the resulting list.\n",
    " * **Note: you can solve the question without using NumPy.**"
   ]
  },
  {
   "cell_type": "code",
   "execution_count": null,
   "id": "a1f9b417-17e2-435b-8db7-14fb7c09068a",
   "metadata": {},
   "outputs": [],
   "source": []
  }
 ],
 "metadata": {
  "kernelspec": {
   "display_name": "Python 3 (ipykernel)",
   "language": "python",
   "name": "python3"
  },
  "language_info": {
   "codemirror_mode": {
    "name": "ipython",
    "version": 3
   },
   "file_extension": ".py",
   "mimetype": "text/x-python",
   "name": "python",
   "nbconvert_exporter": "python",
   "pygments_lexer": "ipython3",
   "version": "3.9.9"
  }
 },
 "nbformat": 4,
 "nbformat_minor": 5
}
